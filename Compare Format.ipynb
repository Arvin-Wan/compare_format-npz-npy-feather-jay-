{
 "cells": [
  {
   "cell_type": "markdown",
   "metadata": {},
   "source": [
    "# Compare format"
   ]
  },
  {
   "cell_type": "markdown",
   "metadata": {},
   "source": []
  },
  {
   "cell_type": "code",
   "execution_count": 1,
   "metadata": {},
   "outputs": [
    {
     "name": "stdout",
     "output_type": "stream",
     "text": [
      "(10, 512, 1001)\n"
     ]
    }
   ],
   "source": [
    "import numpy as np\n",
    "import pandas as pd\n",
    "import time\n",
    "import _pickle as pkl\n",
    "#import cPickle as pkl\n",
    "import os\n",
    "#import tables\n",
    "\n",
    "batch_size = 10\n",
    "embedding_size = 512\n",
    "sample_num = 1000\n",
    "\n",
    "a1 = np.random.normal(size=[embedding_size, sample_num])\n",
    "label = np.random.normal(size=[embedding_size, 1])\n",
    "all_batch = np.concatenate([a1, label], 1)\n",
    "# 重新分割\n",
    "# a1, a2 = np.split(all_batch, [-1], 1)\n",
    "\n",
    "all_batches = []\n",
    "for i in range(batch_size):\n",
    "    all_batches.append(all_batch)\n",
    "all_batches = np.array(all_batches)\n",
    "print(all_batches.shape)\n",
    "\n",
    "\n",
    "# dataframe\n",
    "df = pd.DataFrame(all_batch)\n",
    "df1 = pd.DataFrame()\n",
    "for i in range(batch_size):\n",
    "    df1 = pd.concat([df1,df])"
   ]
  },
  {
   "cell_type": "markdown",
   "metadata": {},
   "source": [
    "## 1. Pickle"
   ]
  },
  {
   "cell_type": "code",
   "execution_count": 2,
   "metadata": {},
   "outputs": [
    {
     "name": "stdout",
     "output_type": "stream",
     "text": [
      "pkl dump costs 0.057932376861572266 sec\n",
      "pkl load costs 0.042009830474853516 sec\n",
      "pkl file size: 41001122 byte, 39.10171699523926 mb\n"
     ]
    }
   ],
   "source": [
    "s_t = time.time()\n",
    "pkl_name = \"a.pkl\"\n",
    "with open(pkl_name, \"wb\") as f:\n",
    "    pkl.dump(all_batches, f)\n",
    "pkl_in_time = time.time()-s_t\n",
    "print(\"pkl dump costs {} sec\".format(pkl_in_time))\n",
    "s_t = time.time()\n",
    "with open(pkl_name,'rb') as f:\n",
    "    new_a = pkl.load(f)\n",
    "pkl_out_time = time.time() - s_t\n",
    "print(\"pkl load costs {} sec\".format(pkl_out_time))\n",
    "pkl_size = os.path.getsize(pkl_name)\n",
    "print(\"pkl file size: {} byte, {} mb\".format(pkl_size, float(pkl_size)/(1024*1024)))"
   ]
  },
  {
   "cell_type": "markdown",
   "metadata": {},
   "source": [
    "## 2. npy"
   ]
  },
  {
   "cell_type": "code",
   "execution_count": 3,
   "metadata": {},
   "outputs": [
    {
     "name": "stdout",
     "output_type": "stream",
     "text": [
      "npy save costs 0.03301215171813965 sec\n",
      "npy load costs 0.02905440330505371 sec\n",
      "npy file size: 41001088 byte, 39.1016845703125 mb\n"
     ]
    }
   ],
   "source": [
    "s_t = time.time()\n",
    "npy_name = \"a.npy\"\n",
    "with open(npy_name, \"wb\") as f:\n",
    "    np.save(f, arr=all_batches)\n",
    "npy_in_time = time.time() - s_t\n",
    "print(\"npy save costs {} sec\".format(npy_in_time))\n",
    "s_t = time.time()\n",
    "with open(npy_name,'rb') as f:\n",
    "    new_a = np.load(f)\n",
    "npy_out_time = time.time() - s_t\n",
    "print(\"npy load costs {} sec\".format(npy_out_time))\n",
    "npy_size = os.path.getsize(npy_name)\n",
    "print(\"npy file size: {} byte, {} mb\".format(npy_size, float(npy_size) / (1024*1024)))"
   ]
  },
  {
   "cell_type": "markdown",
   "metadata": {},
   "source": [
    "## 3. npz"
   ]
  },
  {
   "cell_type": "code",
   "execution_count": 4,
   "metadata": {},
   "outputs": [
    {
     "name": "stdout",
     "output_type": "stream",
     "text": [
      "npz save costs 0.059032440185546875 sec\n",
      "npz load costs 0.07599925994873047 sec\n",
      "npz file size: 41001220 byte, 39.101810455322266 mb\n"
     ]
    }
   ],
   "source": [
    "s_t = time.time()\n",
    "npz_name = \"a.npz\"\n",
    "with open(npz_name, \"wb\") as f:\n",
    "    np.savez(f, arr=all_batches)\n",
    "npz_in_time = time.time() - s_t\n",
    "print(\"npz save costs {} sec\".format(npz_in_time))\n",
    "s_t = time.time()\n",
    "with open(npz_name,'rb') as f:\n",
    "    npz_f= np.load(f)\n",
    "    new_a = npz_f[\"arr\"]\n",
    "npz_out_time = time.time() - s_t\n",
    "print(\"npz load costs {} sec\".format(npz_out_time))\n",
    "npz_size = os.path.getsize(npz_name)\n",
    "print(\"npz file size: {} byte, {} mb\".format(npz_size, float(npz_size) /(1024*1024)))"
   ]
  },
  {
   "cell_type": "markdown",
   "metadata": {},
   "source": [
    "## 4. h5"
   ]
  },
  {
   "cell_type": "code",
   "execution_count": 5,
   "metadata": {},
   "outputs": [
    {
     "ename": "ModuleNotFoundError",
     "evalue": "No module named 'packaging.version'",
     "output_type": "error",
     "traceback": [
      "\u001b[1;31m---------------------------------------------------------------------------\u001b[0m",
      "\u001b[1;31mModuleNotFoundError\u001b[0m                       Traceback (most recent call last)",
      "\u001b[1;32m<ipython-input-5-507422ff3a34>\u001b[0m in \u001b[0;36m<module>\u001b[1;34m\u001b[0m\n\u001b[1;32m----> 1\u001b[1;33m \u001b[1;32mimport\u001b[0m \u001b[0mtables\u001b[0m\u001b[1;33m\u001b[0m\u001b[1;33m\u001b[0m\u001b[0m\n\u001b[0m\u001b[0;32m      2\u001b[0m \u001b[1;33m\u001b[0m\u001b[0m\n\u001b[0;32m      3\u001b[0m \u001b[0ms_t\u001b[0m \u001b[1;33m=\u001b[0m \u001b[0mtime\u001b[0m\u001b[1;33m.\u001b[0m\u001b[0mtime\u001b[0m\u001b[1;33m(\u001b[0m\u001b[1;33m)\u001b[0m\u001b[1;33m\u001b[0m\u001b[1;33m\u001b[0m\u001b[0m\n\u001b[0;32m      4\u001b[0m \u001b[0mtable_name\u001b[0m \u001b[1;33m=\u001b[0m \u001b[1;34m\"a.h5\"\u001b[0m\u001b[1;33m\u001b[0m\u001b[1;33m\u001b[0m\u001b[0m\n\u001b[0;32m      5\u001b[0m \u001b[1;32mwith\u001b[0m \u001b[0mtables\u001b[0m\u001b[1;33m.\u001b[0m\u001b[0mopen_file\u001b[0m\u001b[1;33m(\u001b[0m\u001b[0mtable_name\u001b[0m\u001b[1;33m,\u001b[0m\u001b[1;34m'w'\u001b[0m\u001b[1;33m)\u001b[0m \u001b[1;32mas\u001b[0m \u001b[0mf\u001b[0m\u001b[1;33m:\u001b[0m\u001b[1;33m\u001b[0m\u001b[1;33m\u001b[0m\u001b[0m\n",
      "\u001b[1;32m~\\.conda\\envs\\gluon\\lib\\site-packages\\tables\\__init__.py\u001b[0m in \u001b[0;36m<module>\u001b[1;34m\u001b[0m\n\u001b[0;32m     70\u001b[0m \u001b[1;32mfrom\u001b[0m \u001b[1;33m.\u001b[0m\u001b[0mflavor\u001b[0m \u001b[1;32mimport\u001b[0m \u001b[0mrestrict_flavors\u001b[0m\u001b[1;33m\u001b[0m\u001b[1;33m\u001b[0m\u001b[0m\n\u001b[0;32m     71\u001b[0m \u001b[1;32mfrom\u001b[0m \u001b[1;33m.\u001b[0m\u001b[0mdescription\u001b[0m \u001b[1;32mimport\u001b[0m \u001b[1;33m*\u001b[0m\u001b[1;33m\u001b[0m\u001b[1;33m\u001b[0m\u001b[0m\n\u001b[1;32m---> 72\u001b[1;33m \u001b[1;32mfrom\u001b[0m \u001b[1;33m.\u001b[0m\u001b[0mfilters\u001b[0m \u001b[1;32mimport\u001b[0m \u001b[0mFilters\u001b[0m\u001b[1;33m\u001b[0m\u001b[1;33m\u001b[0m\u001b[0m\n\u001b[0m\u001b[0;32m     73\u001b[0m \u001b[1;33m\u001b[0m\u001b[0m\n\u001b[0;32m     74\u001b[0m \u001b[1;31m# Import the user classes from the proper modules\u001b[0m\u001b[1;33m\u001b[0m\u001b[1;33m\u001b[0m\u001b[1;33m\u001b[0m\u001b[0m\n",
      "\u001b[1;32m~\\.conda\\envs\\gluon\\lib\\site-packages\\tables\\filters.py\u001b[0m in \u001b[0;36m<module>\u001b[1;34m\u001b[0m\n\u001b[0;32m      6\u001b[0m \u001b[1;32mfrom\u001b[0m \u001b[1;33m.\u001b[0m \u001b[1;32mimport\u001b[0m \u001b[0mutilsextension\u001b[0m\u001b[1;33m,\u001b[0m \u001b[0mblosc_compressor_list\u001b[0m\u001b[1;33m,\u001b[0m \u001b[0mblosc_compcode_to_compname\u001b[0m\u001b[1;33m\u001b[0m\u001b[1;33m\u001b[0m\u001b[0m\n\u001b[0;32m      7\u001b[0m \u001b[1;32mfrom\u001b[0m \u001b[1;33m.\u001b[0m\u001b[0mexceptions\u001b[0m \u001b[1;32mimport\u001b[0m \u001b[0mFiltersWarning\u001b[0m\u001b[1;33m\u001b[0m\u001b[1;33m\u001b[0m\u001b[0m\n\u001b[1;32m----> 8\u001b[1;33m \u001b[1;32mfrom\u001b[0m \u001b[0mpackaging\u001b[0m\u001b[1;33m.\u001b[0m\u001b[0mversion\u001b[0m \u001b[1;32mimport\u001b[0m \u001b[0mVersion\u001b[0m\u001b[1;33m\u001b[0m\u001b[1;33m\u001b[0m\u001b[0m\n\u001b[0m\u001b[0;32m      9\u001b[0m \u001b[1;33m\u001b[0m\u001b[0m\n\u001b[0;32m     10\u001b[0m \u001b[1;32mimport\u001b[0m \u001b[0mtables\u001b[0m \u001b[1;32mas\u001b[0m \u001b[0mtb\u001b[0m\u001b[1;33m\u001b[0m\u001b[1;33m\u001b[0m\u001b[0m\n",
      "\u001b[1;31mModuleNotFoundError\u001b[0m: No module named 'packaging.version'"
     ]
    }
   ],
   "source": [
    "import tables\n",
    "\n",
    "s_t = time.time()\n",
    "table_name = \"a.h5\"\n",
    "with tables.open_file(table_name,'w') as f:\n",
    "#f = tables.open_file(table_name, 'w')\n",
    "    atom = tables.Atom.from_dtype(all_batches.dtype)\n",
    "    ds = f.create_carray(f.root, 'test_a', atom, all_batches.shape)\n",
    "    ds[:] = all_batches\n",
    "table_in_time = time.time() - s_t\n",
    "print(\"table save costs {} sec\".format(table_in_time))\n",
    "s_t2 = time.time()\n",
    "with tables.open_file(table_name,'r') as f:\n",
    "#f2 = tables.openFile(table_name, \"r\")\n",
    "    hdf5_data = f.root.test_a[:]\n",
    "table_out_time = time.time() - s_t2\n",
    "print(\"table load costs {} sec\".format(table_out_time))\n",
    "table_size = os.path.getsize(table_name)\n",
    "print(\"table file size: {} byte, {} MB\".format(table_size, float(table_size) / (1024*1024)))"
   ]
  },
  {
   "cell_type": "markdown",
   "metadata": {},
   "source": [
    "## 5. feather\n",
    "feather安装：\n",
    "pip install feather-format"
   ]
  },
  {
   "cell_type": "code",
   "execution_count": null,
   "metadata": {},
   "outputs": [
    {
     "name": "stdout",
     "output_type": "stream",
     "text": [
      "Looking in indexes: https://pypi.mirrors.ustc.edu.cn/simple/\n",
      "Collecting feather-format\n",
      "  Downloading https://mirrors.bfsu.edu.cn/pypi/web/packages/67/e8/ee99f142f19d35588501943510f8217f9dd77184574b0c933c53218e0f19/feather-format-0.4.1.tar.gz (3.2 kB)\n",
      "  Preparing metadata (setup.py): started\n",
      "  Preparing metadata (setup.py): finished with status 'done'\n",
      "Collecting pyarrow>=0.4.0\n",
      "  Downloading https://mirrors.bfsu.edu.cn/pypi/web/packages/57/ec/cb1115c8fabc0e5403db2033f1ea36c438ce19db9a7c0a3e8f4955eadb2d/pyarrow-6.0.1-cp36-cp36m-win_amd64.whl (15.4 MB)\n",
      "Requirement already satisfied: numpy>=1.16.6 in c:\\users\\user\\.conda\\envs\\gluon\\lib\\site-packages (from pyarrow>=0.4.0->feather-format) (1.19.5)\n",
      "Building wheels for collected packages: feather-format\n",
      "  Building wheel for feather-format (setup.py): started\n",
      "  Building wheel for feather-format (setup.py): finished with status 'done'\n",
      "  Created wheel for feather-format: filename=feather_format-0.4.1-py3-none-any.whl size=2457 sha256=84f8278e2fbfb93560b530e6a0efee30736e6ba8d2a0070e2dcf0a109f23763b\n",
      "  Stored in directory: c:\\users\\user\\appdata\\local\\pip\\cache\\wheels\\b5\\4d\\cf\\d3dd677e24ffa1538d30847a27bc8c5dcafb80676e82832c09\n",
      "Successfully built feather-format\n",
      "Installing collected packages: pyarrow, feather-format\n",
      "Successfully installed feather-format-0.4.1 pyarrow-6.0.1\n"
     ]
    },
    {
     "name": "stderr",
     "output_type": "stream",
     "text": [
      "WARNING: Error parsing requirements for send2trash: [Errno 2] No such file or directory: 'c:\\\\users\\\\user\\\\.conda\\\\envs\\\\gluon\\\\lib\\\\site-packages\\\\Send2Trash-1.5.0.dist-info\\\\METADATA'\n",
      "WARNING: Error parsing requirements for mistune: [Errno 2] No such file or directory: 'c:\\\\users\\\\user\\\\.conda\\\\envs\\\\gluon\\\\lib\\\\site-packages\\\\mistune-0.8.4.dist-info\\\\METADATA'\n",
      "WARNING: Error parsing requirements for jupyter: [Errno 2] No such file or directory: 'c:\\\\users\\\\user\\\\.conda\\\\envs\\\\gluon\\\\lib\\\\site-packages\\\\jupyter-1.0.0.dist-info\\\\METADATA'\n"
     ]
    }
   ],
   "source": [
    "# !pip install feather-format -i https://pypi.mirrors.ustc.edu.cn/simple/"
   ]
  },
  {
   "cell_type": "code",
   "execution_count": 7,
   "metadata": {},
   "outputs": [
    {
     "name": "stdout",
     "output_type": "stream",
     "text": [
      "faether write costs 0.07100200653076172 sec\n",
      "faether load costs 0.04601240158081055 sec\n",
      "feather file size: 4650922 byte, 4.435464859008789 MB\n"
     ]
    }
   ],
   "source": [
    "import feather\n",
    "\n",
    "    #df1 = df1.append(pd.DataFrame(all_batch))\n",
    "    #print(df1.shape)\n",
    "s_t = time.time()\n",
    "feather_name = 'a.feather'\n",
    "with open(feather_name,'wb') as f:\n",
    "    feather.write_dataframe(df1,f)\n",
    "feather_in_time = time.time() -s_t\n",
    "print(\"faether write costs {} sec\".format(feather_in_time))\n",
    "s_t2 = time.time()\n",
    "with open(feather_name,'rb') as f:\n",
    "    readFeather = feather.read_dataframe(f)\n",
    "feather_out_time = time.time() -s_t2 \n",
    "\n",
    "print(\"faether load costs {} sec\".format(feather_out_time))\n",
    "feather_size = os.path.getsize(feather_name)\n",
    "print(\"feather file size: {} byte, {} MB\".format(feather_size, float(feather_size) / (1024*1024)))"
   ]
  },
  {
   "cell_type": "markdown",
   "metadata": {},
   "source": [
    "## 6. Jay\n"
   ]
  },
  {
   "cell_type": "code",
   "execution_count": 8,
   "metadata": {},
   "outputs": [],
   "source": [
    "# !pip install datatable -i https://pypi.mirrors.ustc.edu.cn/simple/"
   ]
  },
  {
   "cell_type": "code",
   "execution_count": 9,
   "metadata": {},
   "outputs": [
    {
     "data": {
      "text/html": [
       "<style type='text/css'>\n",
       ".datatable table.frame { margin-bottom: 0; }\n",
       ".datatable table.frame thead { border-bottom: none; }\n",
       ".datatable table.frame tr.coltypes td {  color: #FFFFFF;  line-height: 6px;  padding: 0 0.5em;}\n",
       ".datatable .bool    { background: #DDDD99; }\n",
       ".datatable .object  { background: #565656; }\n",
       ".datatable .int     { background: #5D9E5D; }\n",
       ".datatable .float   { background: #4040CC; }\n",
       ".datatable .str     { background: #CC4040; }\n",
       ".datatable .time    { background: #40CC40; }\n",
       ".datatable .row_index {  background: var(--jp-border-color3);  border-right: 1px solid var(--jp-border-color0);  color: var(--jp-ui-font-color3);  font-size: 9px;}\n",
       ".datatable .frame tbody td { text-align: left; }\n",
       ".datatable .frame tr.coltypes .row_index {  background: var(--jp-border-color0);}\n",
       ".datatable th:nth-child(2) { padding-left: 12px; }\n",
       ".datatable .hellipsis {  color: var(--jp-cell-editor-border-color);}\n",
       ".datatable .vellipsis {  background: var(--jp-layout-color0);  color: var(--jp-cell-editor-border-color);}\n",
       ".datatable .na {  color: var(--jp-cell-editor-border-color);  font-size: 80%;}\n",
       ".datatable .sp {  opacity: 0.25;}\n",
       ".datatable .footer { font-size: 9px; }\n",
       ".datatable .frame_dimensions {  background: var(--jp-border-color3);  border-top: 1px solid var(--jp-border-color0);  color: var(--jp-ui-font-color3);  display: inline-block;  opacity: 0.6;  padding: 1px 10px 1px 5px;}\n",
       "</style>\n"
      ],
      "text/plain": [
       "<IPython.core.display.HTML object>"
      ]
     },
     "metadata": {},
     "output_type": "display_data"
    },
    {
     "name": "stdout",
     "output_type": "stream",
     "text": [
      "jay write costs 0.41909265518188477 sec\n",
      "jay read costs 0.024005651473999023 sec\n",
      "jay file size: 41045088 byte, 39.143646240234375 MB\n"
     ]
    }
   ],
   "source": [
    "import datatable as dt\n",
    "\n",
    "s_t = time.time()\n",
    "jay_name = 'a.jay'\n",
    "dt.Frame(df1).to_jay(jay_name)\n",
    "jay_in_time = time.time() - s_t\n",
    "print(\"jay write costs {} sec\".format(jay_in_time))\n",
    "\n",
    "s_t2= time.time()\n",
    "jay_data =dt.fread(jay_name)\n",
    "jay_out_time = time.time() - s_t2\n",
    "print(\"jay read costs {} sec\".format(jay_out_time))\n",
    "\n",
    "jay_size = os.path.getsize(jay_name)\n",
    "print(\"jay file size: {} byte, {} MB\".format(jay_size, float(jay_size) / (1024*1024)))"
   ]
  },
  {
   "cell_type": "markdown",
   "metadata": {},
   "source": [
    "## 7. Parquet\n"
   ]
  },
  {
   "cell_type": "code",
   "execution_count": 10,
   "metadata": {},
   "outputs": [],
   "source": [
    "#!pip install pyarrow -i https://pypi.mirrors.ustc.edu.cn/simple/"
   ]
  },
  {
   "cell_type": "code",
   "execution_count": 11,
   "metadata": {},
   "outputs": [
    {
     "name": "stdout",
     "output_type": "stream",
     "text": [
      "Parquet write costs 0.2930636405944824 sec\n",
      "Parquet read costs 0.19948840141296387 sec\n",
      "Parquet file size: 5662560 byte, 5.400238037109375 MB\n"
     ]
    }
   ],
   "source": [
    "import pyarrow.parquet as pq\n",
    "import pyarrow as pa\n",
    "Parquet_name = 'a.parquet'\n",
    "\n",
    "s_t = time.time()\n",
    "table = pa.Table.from_pandas(df1)\n",
    "pq.write_table(table,Parquet_name)\n",
    "Parquet_in_time = time.time() - s_t\n",
    "print(\"Parquet write costs {} sec\".format(Parquet_in_time))\n",
    "\n",
    "s_t2 = time.time()\n",
    "parquet_data = pd.read_parquet(Parquet_name)\n",
    "Parquet_out_time = time.time() - s_t2\n",
    "print(\"Parquet read costs {} sec\".format(Parquet_out_time))\n",
    "\n",
    "parquet_size = os.path.getsize(Parquet_name)\n",
    "print(\"Parquet file size: {} byte, {} MB\".format(parquet_size, float(parquet_size) / (1024*1024)))"
   ]
  },
  {
   "cell_type": "code",
   "execution_count": null,
   "metadata": {},
   "outputs": [],
   "source": []
  }
 ],
 "metadata": {
  "interpreter": {
   "hash": "657381ab66ce38752da39d85da8ddbd9ec305ee1e6ab82a9c32a4aac5a0f8b78"
  },
  "kernelspec": {
   "display_name": "Python 3.6.10 ('ssrnet': conda)",
   "language": "python",
   "name": "python3"
  },
  "language_info": {
   "codemirror_mode": {
    "name": "ipython",
    "version": 3
   },
   "file_extension": ".py",
   "mimetype": "text/x-python",
   "name": "python",
   "nbconvert_exporter": "python",
   "pygments_lexer": "ipython3",
   "version": "3.6.15"
  },
  "orig_nbformat": 4
 },
 "nbformat": 4,
 "nbformat_minor": 2
}
